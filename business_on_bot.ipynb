{
 "cells": [
  {
   "cell_type": "code",
   "execution_count": 108,
   "id": "f10fb495",
   "metadata": {},
   "outputs": [
    {
     "name": "stderr",
     "output_type": "stream",
     "text": [
      "[nltk_data] Downloading package punkt to\n",
      "[nltk_data]     C:\\Users\\User\\AppData\\Roaming\\nltk_data...\n",
      "[nltk_data]   Package punkt is already up-to-date!\n",
      "[nltk_data] Downloading package averaged_perceptron_tagger to\n",
      "[nltk_data]     C:\\Users\\User\\AppData\\Roaming\\nltk_data...\n",
      "[nltk_data]   Package averaged_perceptron_tagger is already up-to-\n",
      "[nltk_data]       date!\n"
     ]
    },
    {
     "data": {
      "text/plain": [
       "True"
      ]
     },
     "execution_count": 108,
     "metadata": {},
     "output_type": "execute_result"
    }
   ],
   "source": [
    "import re\n",
    "import nltk\n",
    "import random\n",
    "import sys\n",
    "\n",
    "nltk.download('punkt')\n",
    "nltk.download('averaged_perceptron_tagger')\n",
    "\n"
   ]
  },
  {
   "cell_type": "code",
   "execution_count": 109,
   "id": "8201ea3e",
   "metadata": {},
   "outputs": [],
   "source": [
    "def addtags(operation):\n",
    "    tokens = nltk.word_tokenize(operation)\n",
    "    tagged = nltk.pos_tag(tokens)\n",
    "\n",
    "\n",
    "    n1 = None\n",
    "    operator = None\n",
    "    n2 = None\n",
    "    for i in range(len(tagged)):\n",
    "        if tagged[i][1] == 'CD': \n",
    "            if n1 is None:\n",
    "                n1 = int(tagged[i][0])\n",
    "            elif n2 is None:\n",
    "                n2 = int(tagged[i][0])\n",
    "        elif tagged[i][1] != 'CD': \n",
    "            if tagged[i][0].lower() in ['+', 'add', 'plus']:\n",
    "                operator = '+'\n",
    "            elif tagged[i][0].lower() in ['-', 'subtract', 'minus']:\n",
    "                operator = '-'\n",
    "            elif tagged[i][0].lower() in ['*', 'multiply', 'times']:\n",
    "                operator = '*'\n",
    "            elif tagged[i][0].lower() in ['/', 'divide', 'over']:\n",
    "                operator = '/'\n",
    "    \n",
    "    return (n1, operator, n2)\n",
    "\n"
   ]
  },
  {
   "cell_type": "code",
   "execution_count": 110,
   "id": "a35e3936",
   "metadata": {},
   "outputs": [],
   "source": [
    "def calculate(operation):\n",
    "    \n",
    "    responses1 = ['I\\'m sorry!', 'My apologies!', 'I apologize!', 'Sorry about that!', 'Oops!']\n",
    "\n",
    "    n1, operator, n2 = addtags(operation)\n",
    "    \n",
    "    \n",
    "    if n1 is None or operator is None or n2 is None:\n",
    "        return \"Sorry, I didn't understand that.\"\n",
    "    \n",
    "\n",
    "    if operator == '+':\n",
    "        result = n1 + n2\n",
    "        result1=  print('Sum of',n1,'and',n2,'is',result)\n",
    "    elif operator == '-':\n",
    "        result = n1 - n2\n",
    "        result1=  print('Difference of',n1,'and',n2,'is',result)\n",
    "    elif operator == '*':\n",
    "        result = n1 * n2\n",
    "        result1=  print('Product of',n1,'and',n2,'is',result)\n",
    "    elif operator == '/':\n",
    "        try:\n",
    "            result = n1 / n2\n",
    "            result1=  print('Division of',n1,'and',n2,'is',result)\n",
    "        except ZeroDivisionError:\n",
    "            print(\"Bot:\"+random.choice(responses1)+\"cant be 0, enter a valid operand!\")\n",
    "            print(\"Bot: What is the second operand?\")\n",
    "            n2 = int(input(\"User: \"))\n",
    "            result = n1 / n2\n",
    "            result1=  print('Division of',n1,'and',n2,'is',result)\n",
    "            \n",
    "    \n",
    "            \n",
    "    return result\n",
    "             \n",
    "\n"
   ]
  },
  {
   "cell_type": "code",
   "execution_count": 111,
   "id": "9a31f7c3",
   "metadata": {},
   "outputs": [],
   "source": [
    "def handle_input():\n",
    "    result1=''\n",
    "    responses = ['Hi there!', 'Hello!', 'Hi!', 'Hey!', 'Greetings!']\n",
    "    responses1 = ['I\\'m sorry!', 'My apologies!', 'I apologize!', 'Sorry about that!', 'Oops!']\n",
    "\n",
    "    print(\"Bot:\" +random.choice(responses)+ \" What mathematical operation do you want to do?\")\n",
    "    operation_type = input(\"User: \").lower()\n",
    "    \n",
    "    if operation_type == 'exit':\n",
    "        print(\"Bot: Goodbye!\")\n",
    "        return\n",
    "    \n",
    "    elif operation_type not in ['add', 'subtract', 'multiply', 'divide']:\n",
    "        print(\"Bot:\"+random.choice(responses1)+\"I didn't understand that. Please enter a valid operation type.\")\n",
    "        handle_input()\n",
    "        return\n",
    "    \n",
    "    print(\"Bot: What is the first operand?\")\n",
    "    num1 = input(\"User: \")\n",
    "    print(\"Bot: What is the second operand?\")\n",
    "    num2 = input(\"User: \")\n",
    "    \n",
    "    operation=\"{} {} {}\".format(int(num1),operation_type,int(num2))\n",
    "    \n",
    "    result=calculate(operation)\n",
    "    print(result1)\n",
    "    user_inp='more operations'\n",
    "    user_inp=input('Do you want to proceed?')\n",
    "    if user_inp=='more operations':\n",
    "        handle_input()\n",
    "    else:\n",
    "        sys.exit()\n",
    "    "
   ]
  },
  {
   "cell_type": "code",
   "execution_count": 112,
   "id": "4e02b6e9",
   "metadata": {},
   "outputs": [
    {
     "name": "stdout",
     "output_type": "stream",
     "text": [
      "Bot:Hey! What mathematical operation do you want to do?\n",
      "User: add\n",
      "Bot: What is the first operand?\n",
      "User: 4\n",
      "Bot: What is the second operand?\n",
      "User: 5\n",
      "Sum of 4 and 5 is 9\n",
      "\n",
      "Do you want to proceed?more operations\n",
      "Bot:Hey! What mathematical operation do you want to do?\n",
      "User: divide\n",
      "Bot: What is the first operand?\n",
      "User: 5\n",
      "Bot: What is the second operand?\n",
      "User: 0\n",
      "Bot:I apologize!cant be 0, enter a valid operand!\n",
      "Bot: What is the second operand?\n",
      "User: 2\n",
      "Division of 5 and 2 is 2.5\n",
      "\n",
      "Do you want to proceed?no\n"
     ]
    },
    {
     "ename": "SystemExit",
     "evalue": "",
     "output_type": "error",
     "traceback": [
      "An exception has occurred, use %tb to see the full traceback.\n",
      "\u001b[1;31mSystemExit\u001b[0m\n"
     ]
    }
   ],
   "source": [
    "if __name__=='__main__':\n",
    "    while(user_inp=='more operations'):\n",
    "        handle_input()"
   ]
  },
  {
   "cell_type": "code",
   "execution_count": null,
   "id": "2ea73961",
   "metadata": {},
   "outputs": [],
   "source": []
  },
  {
   "cell_type": "code",
   "execution_count": null,
   "id": "fcb0dd9d",
   "metadata": {},
   "outputs": [],
   "source": []
  }
 ],
 "metadata": {
  "kernelspec": {
   "display_name": "Python 3 (ipykernel)",
   "language": "python",
   "name": "python3"
  },
  "language_info": {
   "codemirror_mode": {
    "name": "ipython",
    "version": 3
   },
   "file_extension": ".py",
   "mimetype": "text/x-python",
   "name": "python",
   "nbconvert_exporter": "python",
   "pygments_lexer": "ipython3",
   "version": "3.9.16"
  }
 },
 "nbformat": 4,
 "nbformat_minor": 5
}
